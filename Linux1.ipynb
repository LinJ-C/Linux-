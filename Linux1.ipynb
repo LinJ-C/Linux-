{
 "cells": [
  {
   "cell_type": "markdown",
   "metadata": {},
   "source": [
    "拿到新的Linux服务器，开机第一件要做的事。就是更新yum和安装相关依赖包，方便后续操作。"
   ]
  },
  {
   "cell_type": "raw",
   "metadata": {},
   "source": [
    "Linux升级命令有两个分别是yum upgrade和yum update, 这个两个命令是有区别的:\n",
    "代码如下:\n",
    "\n",
    "yum -y update\n",
    "升级所有包同时也升级软件和系统内核\n",
    "\n",
    "代码如下:\n",
    "yum -y upgrade\n",
    "只升级所有包，不升级软件和系统内核\n",
    "\n",
    "随手安装一下gcc\n",
    "yum install gcc\n",
    "还有其他依赖，后续补上"
   ]
  },
  {
   "cell_type": "markdown",
   "metadata": {},
   "source": [
    "第二步，永久修改主机名"
   ]
  },
  {
   "cell_type": "raw",
   "metadata": {},
   "source": [
    "修改/etc/hostname 和 /etc/hosts 文件 即可。注意两个文件修改的名字一样。"
   ]
  },
  {
   "cell_type": "markdown",
   "metadata": {},
   "source": [
    "安装python相关"
   ]
  },
  {
   "cell_type": "markdown",
   "metadata": {},
   "source": [
    "其实现在的liunx主机都自带pytho2和pytho3，不需要下载新的，下载下来也很麻烦，有很多版本。同时可以直接下载anacada，这样相关东西也下载了"
   ]
  },
  {
   "cell_type": "raw",
   "metadata": {},
   "source": [
    "centos 与 Ubuntu 命令行有区别"
   ]
  },
  {
   "cell_type": "markdown",
   "metadata": {},
   "source": [
    "centos使用yum下载包  而Ubuntu用apt-get ，在看网上Linux教程的时候要看清楚是那个系统，不然没有反应还不知道为什么"
   ]
  }
 ],
 "metadata": {
  "kernelspec": {
   "display_name": "Python 3",
   "language": "python",
   "name": "python3"
  },
  "language_info": {
   "codemirror_mode": {
    "name": "ipython",
    "version": 3
   },
   "file_extension": ".py",
   "mimetype": "text/x-python",
   "name": "python",
   "nbconvert_exporter": "python",
   "pygments_lexer": "ipython3",
   "version": "3.6.0"
  }
 },
 "nbformat": 4,
 "nbformat_minor": 2
}
