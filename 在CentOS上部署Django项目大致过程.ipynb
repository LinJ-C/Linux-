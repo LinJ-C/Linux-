{
 "cells": [
  {
   "cell_type": "markdown",
   "metadata": {},
   "source": [
    "## 第一步：下载Django"
   ]
  },
  {
   "cell_type": "raw",
   "metadata": {},
   "source": [
    "pip3 install django==2.1.8\n",
    "\n",
    "这里解释一下为什么要下载2.1.8版本的django\n",
    "1.我的Django项目是2.2.7版本的（怎么查看：import django ；print(django.VERSION) ）。这个版本和2.1.是适用的\n",
    "2.阿里云centos系统中，使用Python3 manage.py runserver 0.0.0.0：8000 时 报错：\n",
    "django.core.exceptions.ImproperlyConfigured: SQLite 3.8.3 or later is required (found 3.7.17).\n",
    "\n",
    "这个问题有两个办法解决：1，给sqlite升级到高版本，比如 3.8.3  2，给django降级，也就是降级到2.1.8\n",
    "给sqlite升级的方法如下：\n",
    "\n",
    "＃更新SQLite 3\n",
    "＃获取源代码（在主目录中运行）\n",
    "[root@djangoServer ~]# cd ~\n",
    "[root@djangoServer ~]# wget https://www.sqlite.org/2019/sqlite-autoconf-3270200.tar.gz\n",
    "[root@djangoServer ~]# tar -zxvf sqlite-autoconf-3270200.tar.gz\n",
    " \n",
    "＃构建并安装\n",
    "[root@djangoServer ~]# cd sqlite-autoconf-3270200\n",
    "[root@djangoServer sqlite-autoconf-3270200]# ./configure --prefix=/usr/local\n",
    "[root@djangoServer sqlite-autoconf-3270200]# make && make install\n",
    "\n",
    "＃不必要的文件，目录删除\n",
    "[root@djangoServer sqlite-autoconf-3270200]# cd ~\n",
    "[root@djangoServer ~]# ls\n",
    "anaconda-ks.cfg  sqlite-autoconf-3270200  sqlite-autoconf-3270200.tar.gz\n",
    "[root@djangoServer ~]# \n",
    "[root@djangoServer ~]# rm -rf sqlite-autoconf-3270200.tar.gz\n",
    "[root@djangoServer ~]# rm -rf sqlite-autoconf-3270200\n",
    " \n",
    "## 更改旧的sqlite3\n",
    "[root@djangoServer ~]# mv /usr/bin/sqlite3  /usr/bin/sqlite3_old\n",
    " \n",
    "## 软链接将新的sqlite3设置到/usr/bin目录下\n",
    "[root@djangoServer ~]# ln -s /usr/local/bin/sqlite3   /usr/bin/sqlite3\n",
    " \n",
    "## 查看当前全局sqlite3的版本\n",
    "[root@djangoServer ~]# sqlite3 --version\n",
    "3.27.2 2019-02-25 16:06:06 bd49a8271d650fa89e446b42e513b595a717b9212c91dd384aab871fc1d0f6d7\n",
    "[root@djangoServer ~]# \n",
    " \n",
    "＃将路径传递给共享库\n",
    "# 设置开机自启动执行，可以将下面的export语句写入 ~/.bashrc 文件中，如果如果你想立即生效，可以执行source 〜/.bashrc 将在每次启动终端时执行\n",
    "[root@djangoServer ~]# export LD_LIBRARY_PATH=\"/usr/local/lib\"\n",
    " \n",
    "＃检查Python的SQLite3版本\n",
    "[root@djangoServer ~]# ipython3\n",
    "Python 3.7.1 (default, May  3 2019, 09:55:04) \n",
    "Type 'copyright', 'credits' or 'license' for more information\n",
    "IPython 7.5.0 -- An enhanced Interactive Python. Type '?' for help.\n",
    " \n",
    "In [1]: import sqlite3                                                     \n",
    " \n",
    "In [2]: sqlite3.sqlite_version                                             \n",
    "Out[2]: '3.27.2'\n",
    "\n",
    "然而第二个办法只需要下面两行代码：\n",
    "pip3 uninstall django\n",
    "pip3 install django==2.1.8\n",
    "\n",
    "\n",
    "而且，给sqlite升级后，在后续配置，启动uwsgi时会报错，uwsgi加载不了新的模块，需要环境隔离，很麻烦。但是给django降级一点影响都没有。\n"
   ]
  },
  {
   "cell_type": "markdown",
   "metadata": {},
   "source": [
    "## 第二步：下载uwsgi，配置uwsgi"
   ]
  },
  {
   "cell_type": "raw",
   "metadata": {},
   "source": [
    "pip3 install uwsgi\n",
    "一般都会让你测试一下\n",
    "\n",
    "# test.py\n",
    "def application(env, start_response):\n",
    "    start_response('200 OK', [('Content-Type','text/html')])\n",
    "    return [b\"Hello World\"] # python3\n",
    "    #return [\"Hello World\"] # python2\n",
    "    \n",
    "然后终端   uwsgi --http :8000 --wsgi-file test.py \n",
    "    访问   ip：8000 页面返回Hello World\n",
    "\n",
    "也可以用项目测试一下 uwsgi --http :8000 ---chdir :项目位置 --module 项目.wsgi:application\n",
    "\n",
    "            \n",
    "    "
   ]
  },
  {
   "cell_type": "markdown",
   "metadata": {},
   "source": [
    "### uWSGI常用命令："
   ]
  },
  {
   "cell_type": "raw",
   "metadata": {},
   "source": [
    "uwsgi --chdir=/path/to/your/project \\\n",
    "    --module=mysite.wsgi:application \\\n",
    "    --env DJANGO_SETTINGS_MODULE=mysite.settings \\\n",
    "    --master --pidfile=/tmp/project-master.pid \\\n",
    "    --socket=127.0.0.1:49152 \\      # 可以ip地址，也可以是文件 \n",
    "    --processes=5 \\                 # 进程数量\n",
    "    --uid=1000 --gid=2000 \\         # 如果是root用户，uwsgi可以有删除权限\n",
    "    --harakiri=20 \\                 # 一个请求超时时间\n",
    "    --max-requests=5000 \\           # 一个工作进程最大请求数\n",
    "    --vacuum \\                      # 退出时清楚环境\n",
    "    --home=/path/to/virtual/env \\   # virtualenv的路径\n",
    "    -- static                       # 做一个映射,指定静态文件\n",
    "    --http                          # 这个就和runserver一样指定IP 端口\n",
    "    --daemonize=/var/log/uwsgi/yourproject.log      # 日志　"
   ]
  },
  {
   "cell_type": "markdown",
   "metadata": {},
   "source": [
    "### 创建配置文件，与配置"
   ]
  },
  {
   "cell_type": "raw",
   "metadata": {},
   "source": [
    "进入项目文件，创建script文件，在里面创建ini配置文件\n",
    "$ mkdir script\n",
    "$ vim uwsgi.ini\n",
    "配置一般如下，具体需要个人修改\n",
    "[uwsgi]\n",
    "# 项目目录\n",
    "chdir=/opt/project_teacher/teacher/\n",
    "# 指定项目的application\n",
    "module=teacher.wsgi:application\n",
    "# 进程个数\n",
    "workers=5\n",
    "pidfile=/opt/project_teacher/script/uwsgi.pid\n",
    "# 指定IP端口\n",
    "http=192.168.31.123:8080\n",
    "# 指定静态文件\n",
    "static-map=/static=/opt/test_project/teacher/static\n",
    "# 启动uwsgi的用户名和用户组\n",
    "uid=root\n",
    "gid=root\n",
    "# 启用主进程\n",
    "master=true\n",
    "# 自动移除unix Socket和pid文件当服务停止的时候\n",
    "vacuum=true\n",
    "# 序列化接受的内容，如果可能的话\n",
    "thunder-lock=true\n",
    "# 启用线程\n",
    "enable-threads=true\n",
    "# 设置自中断时间\n",
    "harakiri=30\n",
    "# 设置缓冲\n",
    "post-buffering=4096\n",
    "# 设置日志目录\n",
    "daemonize=/opt/project_teacher/script/uwsgi.log\n",
    "# 指定sock的文件路径\n",
    "socket=/opt/project_teacher/script/uwsgi.sock"
   ]
  },
  {
   "cell_type": "markdown",
   "metadata": {},
   "source": [
    "### uwsgi命令"
   ]
  },
  {
   "cell_type": "raw",
   "metadata": {},
   "source": [
    "$ uwsgi --ini uwsgi.ini   # 启动uwsgi配置\n",
    "[uwsgi-static] added mapping for /static => /home/trunk/static    # 启动成功\n",
    "\n",
    "$ uwsgi --stop uwsgi.pid  # 关闭uwsgi\n",
    "signal_pidfile()/kill(): Operation not permitted [core/uwsgi.c line 1659]\n",
    "\n",
    "$ uwsgi --reload uwsgi.pid  #重新加载配置"
   ]
  },
  {
   "cell_type": "markdown",
   "metadata": {},
   "source": [
    "# 安装并配置nginx"
   ]
  },
  {
   "cell_type": "markdown",
   "metadata": {},
   "source": [
    "centos使用\n",
    "yum install nginx\n",
    "下载完成后你会得到一个这样的文件夹\n",
    "\n",
    "![jupyter](./nginx文件内容.png)\n",
    "\n",
    "我们所有的配置都需要在conf.d中创建并且配置\n",
    "配置信息如下：\n",
    "\n",
    "\n",
    "server {   # 这个server标识我要配置了\n",
    "        \n",
    "        listen 80;  # 80 是http默认的端口， 443 是https默认的端口（网页一般使用这两个端口）\n",
    "        \n",
    "        server_name www.chenxm.cc ;  # 你访问的路径前面的url名称\n",
    "        \n",
    "        access_log  /var/log/nginx/access.log;  # Nginx日志配置\n",
    "        \n",
    "        error_log  /var/log/nginx/error.log;    # Nginx错误日志配置\n",
    "        \n",
    "        charset  utf-8; # Nginx编码\n",
    "        \n",
    "        gzip on;  # 启用压缩,这个的作用就是给用户一个网页,比如3M压缩后1M这样传输速度就会提高很多\n",
    "        \n",
    "        gzip_types text/plain application/x-javascript text/css text/javascript application/x-httpd-php application/json text/json image/jpeg image/gif image/png application/octet-stream;  # 支持压缩的类型\n",
    "\n",
    "        error_page  404           /404.html;  # 错误页面\n",
    "        error_page   500 502 503 504  /50x.html;  # 错误页面\n",
    "\n",
    "        # 指定项目路径uwsgi\n",
    "        location / {        # 这个location就和咱们Django的url(r'^admin/', admin.site.urls),\n",
    "            include uwsgi_params;  # 导入一个Nginx模块他是用来和uWSGI进行通讯的\n",
    "            uwsgi_connect_timeout 30;  # 设置连接uWSGI超时时间\n",
    "            # 指定uwsgi的sock文件所有动态请求就会直接丢给他\n",
    "            uwsgi_pass unix:/opt/project_teacher/script/uwsgi.sock;  \n",
    "        }\n",
    "\n",
    "        # 指定静态文件路径\n",
    "        location /static/ {\n",
    "            alias  /opt/project_teacher/teacher/static/;\n",
    "            index  index.html index.htm;\n",
    "        }\n",
    "        }"
   ]
  },
  {
   "cell_type": "raw",
   "metadata": {},
   "source": [
    "上述配置都是大概，具体情况还是需要自行修改\n",
    "下面是mginx的常用命令\n",
    "nginx -t   \t\t\t\t\t\t#测试配置文件是否有语法错误\n",
    "nginx -s reopen\t\t\t\t\t#重启Nginx\n",
    "nginx -s reload\t\t\t\t\t #重新加载Nginx配置文件，然后以优雅的方式重启Nginx\n",
    "nginx -s stop  \t\t\t\t\t#强制停止Nginx服务\n",
    "nginx -s quit  \t\t\t\t\t\t#优雅地停止Nginx服务（即处理完所有请求后再停止服务）\n",
    "nginx -c [配置文件路径]       #为 Nginx 指定配置文件\n",
    "\n",
    "在配置好了，我们一般要测试配置文件，使用 nginx -t \n",
    "但是查看代码大家会发现，验证不是配置的文件，验证的是 /etc/nginx/nginx.conf这个文件\n",
    "其实这个就是nginx主要配置文件，验证这个就相当于验证所有的nginx配置文件了，后面还有可能在里面做相关修改。\n",
    "    一般验证 都是用 nginx -c -t /etc/nginx/nginx.conf 命令\n",
    "    \n"
   ]
  },
  {
   "cell_type": "markdown",
   "metadata": {},
   "source": [
    "## 这就是部署的大致过程，但是部署的时候会出现很多错误。下一篇才是重点，讲出我遇见的所有bug"
   ]
  },
  {
   "cell_type": "markdown",
   "metadata": {},
   "source": [
    "# 参考文档 http://www.chenxm.cc/article/87.html与 https://www.bilibili.com/video/BV1xW411o77G?from=search&seid=16117767374652894500"
   ]
  },
  {
   "cell_type": "code",
   "execution_count": null,
   "metadata": {
    "collapsed": true
   },
   "outputs": [],
   "source": []
  }
 ],
 "metadata": {
  "kernelspec": {
   "display_name": "Python 3",
   "language": "python",
   "name": "python3"
  },
  "language_info": {
   "codemirror_mode": {
    "name": "ipython",
    "version": 3
   },
   "file_extension": ".py",
   "mimetype": "text/x-python",
   "name": "python",
   "nbconvert_exporter": "python",
   "pygments_lexer": "ipython3",
   "version": "3.6.0"
  }
 },
 "nbformat": 4,
 "nbformat_minor": 2
}
