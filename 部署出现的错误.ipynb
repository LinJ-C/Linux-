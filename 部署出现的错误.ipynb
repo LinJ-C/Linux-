{
 "cells": [
  {
   "cell_type": "markdown",
   "metadata": {},
   "source": [
    "## 属于uwsgi的错误"
   ]
  },
  {
   "cell_type": "markdown",
   "metadata": {},
   "source": [
    "### 配置完后，访问ip，出现502错误"
   ]
  },
  {
   "cell_type": "raw",
   "metadata": {},
   "source": [
    "这个问题很明显就是链接没有建立成功，nginx打开了，但是uwsgi没有启动起来。\n",
    "使用ps -aux |grep uwsgi 查看进程\n",
    "发现只有一个进程，说明uwsgi没有启动\n",
    "查看uwsgi.log文档\n",
    "发现主要错误!!! no internal routing support, rebuild with pcre support !!!\n",
    "这个问题很好解决，就是uwsgi缺少依赖\n",
    "只需要三句命令：\n",
    "pip3 uninstall uwsgi\n",
    "yum install -y pcre pcre-devel pcre-static\n",
    "pip3 install uwsgi \n",
    "\n",
    "有时候还会报no /etc/mine.types file found的错位，这个也会造成502\n",
    "解决方法：\n",
    "sudo yum install mailcap"
   ]
  },
  {
   "cell_type": "markdown",
   "metadata": {},
   "source": [
    "## 属于nginx错误，报错403"
   ]
  },
  {
   "cell_type": "raw",
   "metadata": {},
   "source": [
    "一、由于启动用户和nginx工作用户不一致所致\n",
    "直接改成root\n",
    "vim /etc/nginx/nginx.conf \n",
    "最上面一行改成 user root\n",
    "二、缺少index.html或者index.php文件，就是配置文件中index index.html index.htm这行中的指定的文件。\n",
    "1.    server {  \n",
    "\n",
    "2.      listen       80;  \n",
    "\n",
    "3.      server_name  localhost;  \n",
    "\n",
    "4.      index  index.php index.html;  \n",
    "\n",
    "5.      root  /data/www/;\n",
    "\n",
    "6.    }\n",
    "在对应root文件位置没有index文件会这样\n",
    "\n",
    "三、权限问题，如果nginx没有web目录的操作权限，也会出现403错误。\n",
    "\n",
    "解决办法：修改web目录的读写权限，或者是把nginx的启动用户改成目录的所属用户，重启Nginx即可解决\n",
    "\n",
    "1.    chmod  755 项目文件\n",
    "\n"
   ]
  },
  {
   "cell_type": "markdown",
   "metadata": {},
   "source": [
    "# 参考文档 http://www.chenxm.cc/article/87.html与 https://www.bilibili.com/video/BV1xW411o77G?from=search&seid=16117767374652894500"
   ]
  }
 ],
 "metadata": {
  "kernelspec": {
   "display_name": "Python 3",
   "language": "python",
   "name": "python3"
  },
  "language_info": {
   "codemirror_mode": {
    "name": "ipython",
    "version": 3
   },
   "file_extension": ".py",
   "mimetype": "text/x-python",
   "name": "python",
   "nbconvert_exporter": "python",
   "pygments_lexer": "ipython3",
   "version": "3.6.0"
  }
 },
 "nbformat": 4,
 "nbformat_minor": 2
}
